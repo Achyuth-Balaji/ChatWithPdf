{
 "cells": [
  {
   "cell_type": "code",
   "execution_count": 1,
   "id": "6da32d8f-d373-4f4f-98e9-5e2298dc81d9",
   "metadata": {},
   "outputs": [],
   "source": [
    "import os\n",
    "from urllib.request import urlretrieve\n",
    "import numpy as np\n",
    "from langchain_community.embeddings import HuggingFaceBgeEmbeddings\n",
    "from langchain_community.llms import HuggingFacePipeline\n",
    "from langchain_community.document_loaders import PyPDFLoader\n",
    "from langchain_community.document_loaders import PyPDFDirectoryLoader\n",
    "from langchain.text_splitter import RecursiveCharacterTextSplitter\n",
    "from langchain_community.vectorstores import FAISS\n",
    "from langchain.chains import RetrievalQA\n",
    "from langchain.prompts import PromptTemplate"
   ]
  },
  {
   "cell_type": "code",
   "execution_count": 2,
   "id": "d3219e89-7a9c-428e-bc61-064a5430a050",
   "metadata": {},
   "outputs": [],
   "source": [
    "from langchain_community.document_loaders import PyPDFLoader\n",
    "\n",
    "def load_pages_of_book(file_path):\n",
    "    file_path_book_1 = (file_path)\n",
    "    loader = PyPDFLoader(file_path)\n",
    "    pages = loader.load_and_split()\n",
    "    return pages\n",
    "pages=load_pages_of_book(\"python-basics-sample-chapters.pdf\")"
   ]
  },
  {
   "cell_type": "code",
   "execution_count": 3,
   "id": "acc60cbb-964f-4b64-a130-0dd3eb95a90a",
   "metadata": {},
   "outputs": [],
   "source": [
    "text_splitter = RecursiveCharacterTextSplitter(\n",
    "    chunk_size = 700,\n",
    "    chunk_overlap  = 100,\n",
    ")\n",
    "docs_after_split = text_splitter.split_documents(pages)"
   ]
  },
  {
   "cell_type": "code",
   "execution_count": 4,
   "id": "319563a7-c560-4e8b-9ec7-39138ab19b3c",
   "metadata": {},
   "outputs": [
    {
     "name": "stderr",
     "output_type": "stream",
     "text": [
      "/opt/anaconda3/lib/python3.12/site-packages/sentence_transformers/cross_encoder/CrossEncoder.py:13: TqdmExperimentalWarning: Using `tqdm.autonotebook.tqdm` in notebook mode. Use `tqdm.tqdm` instead to force console mode (e.g. in jupyter console)\n",
      "  from tqdm.autonotebook import tqdm, trange\n"
     ]
    }
   ],
   "source": [
    "huggingface_embeddings = HuggingFaceBgeEmbeddings(\n",
    "    model_name=\"BAAI/bge-large-en-v1.5\",  \n",
    "    model_kwargs={'device':'cpu'}, \n",
    "    encode_kwargs={'normalize_embeddings': True}\n",
    ")"
   ]
  },
  {
   "cell_type": "code",
   "execution_count": 5,
   "id": "ea67f1e0-1d18-4ecb-a102-b029db5e36be",
   "metadata": {},
   "outputs": [],
   "source": [
    "from langchain.vectorstores import Chroma\n",
    "#Persisiting db contents in a directory\n",
    "persist_directory = 'docs/chroma/'\n",
    "\n",
    "vectordb = Chroma.from_documents(\n",
    "    documents=docs_after_split,\n",
    "    embedding=huggingface_embeddings,\n",
    "    persist_directory=persist_directory\n",
    ")"
   ]
  },
  {
   "cell_type": "code",
   "execution_count": 6,
   "id": "a3b8808a-9474-4da6-b7c1-b0d3cbd07d93",
   "metadata": {},
   "outputs": [
    {
     "name": "stderr",
     "output_type": "stream",
     "text": [
      "/var/folders/q4/8hxfb0hn2fb4qx0gwrhjbrwc0000gn/T/ipykernel_27392/708428839.py:18: LangChainDeprecationWarning: The class `Ollama` was deprecated in LangChain 0.3.1 and will be removed in 1.0.0. An updated version of the class exists in the :class:`~langchain-ollama package and should be used instead. To use it run `pip install -U :class:`~langchain-ollama` and import as `from :class:`~langchain_ollama import OllamaLLM``.\n",
      "  llm = Ollama(model=\"llama3\")\n",
      "/var/folders/q4/8hxfb0hn2fb4qx0gwrhjbrwc0000gn/T/ipykernel_27392/708428839.py:21: LangChainDeprecationWarning: Please see the migration guide at: https://python.langchain.com/docs/versions/migrating_memory/\n",
      "  memory = ConversationBufferMemory(\n"
     ]
    }
   ],
   "source": [
    "from langchain.prompts import PromptTemplate\n",
    "from langchain.chains import ConversationalRetrievalChain\n",
    "from langchain.llms.ollama import Ollama\n",
    "from langchain.chains import RetrievalQA\n",
    "from langchain.memory import ConversationBufferMemory\n",
    "template = \"\"\"Use the provided context to answer the question at the end. \n",
    "            If answer is not known,respond by stating you don't know, don't try to make up an answer.\n",
    "            Use 2 to 3 sentences maximum to state answer. Keep the answer as concise as possible. \n",
    "            Always say \"thanks for asking!\" at the end of the answer. \n",
    "{context}\n",
    "Question: {question}\n",
    "Helpful Answer:\"\"\"\n",
    "QA_CHAIN_PROMPT = PromptTemplate(input_variables=[\"context\", \"question\"],template=template,)\n",
    "\n",
    "# Run chain\n",
    "\n",
    "question = \"is python open source language??\"\n",
    "llm = Ollama(model=\"llama3\")\n",
    "retriever=vectordb.as_retriever()\n",
    "\n",
    "memory = ConversationBufferMemory(\n",
    "    memory_key=\"chat_history\",\n",
    "    return_messages=True\n",
    ")\n",
    "qa_chain = ConversationalRetrievalChain.from_llm(llm,\n",
    "                                       retriever=retriever,\n",
    "                                       memory=memory)"
   ]
  },
  {
   "cell_type": "code",
   "execution_count": 7,
   "id": "f17bc335-aea1-42de-a7cd-2565df5d28ec",
   "metadata": {},
   "outputs": [
    {
     "name": "stdin",
     "output_type": "stream",
     "text": [
      "please enter the query what are f-strings?\n"
     ]
    },
    {
     "name": "stderr",
     "output_type": "stream",
     "text": [
      "/var/folders/q4/8hxfb0hn2fb4qx0gwrhjbrwc0000gn/T/ipykernel_27392/4065927796.py:7: LangChainDeprecationWarning: The method `Chain.__call__` was deprecated in langchain 0.1.0 and will be removed in 1.0. Use :meth:`~invoke` instead.\n",
      "  result = qa_chain({\"question\": line})\n"
     ]
    },
    {
     "name": "stdout",
     "output_type": "stream",
     "text": [
      "{'question': 'what are f-strings?', 'chat_history': [HumanMessage(content='what are f-strings?', additional_kwargs={}, response_metadata={}), AIMessage(content='According to the provided context, f-strings are a type of string formatting known as \"known as f-strings\". They allow you to insert variable names surrounded by curly braces ({}), which are replaced by their corresponding values without using str().', additional_kwargs={}, response_metadata={})], 'answer': 'According to the provided context, f-strings are a type of string formatting known as \"known as f-strings\". They allow you to insert variable names surrounded by curly braces ({}), which are replaced by their corresponding values without using str().'}\n"
     ]
    },
    {
     "name": "stdin",
     "output_type": "stream",
     "text": [
      "please enter the query show an example\n"
     ]
    },
    {
     "name": "stdout",
     "output_type": "stream",
     "text": [
      "{'question': 'show an example', 'chat_history': [HumanMessage(content='what are f-strings?', additional_kwargs={}, response_metadata={}), AIMessage(content='According to the provided context, f-strings are a type of string formatting known as \"known as f-strings\". They allow you to insert variable names surrounded by curly braces ({}), which are replaced by their corresponding values without using str().', additional_kwargs={}, response_metadata={}), HumanMessage(content='show an example', additional_kwargs={}, response_metadata={}), AIMessage(content='According to the context, one example of how to use f-strings is:\\n\\nf\"{name }has {heads }heads and {arms }arms\"\\n\\nThis would replace the variable names with their corresponding values without using str(), as shown in the example:\\n\\n\\'Zaphod has 2 heads and 3 arms\\'\\n\\nAnother example given is inserting Python expressions between curly braces, such as:\\n\\nf\"{n} times {m} is{n*m}\"\\n\\nThis would replace the expressions with their result in the string.', additional_kwargs={}, response_metadata={})], 'answer': 'According to the context, one example of how to use f-strings is:\\n\\nf\"{name }has {heads }heads and {arms }arms\"\\n\\nThis would replace the variable names with their corresponding values without using str(), as shown in the example:\\n\\n\\'Zaphod has 2 heads and 3 arms\\'\\n\\nAnother example given is inserting Python expressions between curly braces, such as:\\n\\nf\"{n} times {m} is{n*m}\"\\n\\nThis would replace the expressions with their result in the string.'}\n"
     ]
    },
    {
     "name": "stdin",
     "output_type": "stream",
     "text": [
      "please enter the query stop\n"
     ]
    },
    {
     "name": "stdout",
     "output_type": "stream",
     "text": [
      "Ending conversation\n"
     ]
    }
   ],
   "source": [
    "while True:\n",
    "    line = input(\"please enter the query\")\n",
    "    if line == 'stop':\n",
    "        print(\"Ending conversation\")\n",
    "        break\n",
    "    elif line != '':\n",
    "        result = qa_chain({\"question\": line})\n",
    "        print(result)\n"
   ]
  },
  {
   "cell_type": "code",
   "execution_count": null,
   "id": "d1cb7df2-1801-4f1b-863b-258150c0f77b",
   "metadata": {},
   "outputs": [],
   "source": [
    "#Removing \n",
    "!rm -rf ./docs/chroma"
   ]
  },
  {
   "cell_type": "code",
   "execution_count": null,
   "id": "fac6b458-744d-4874-9c67-7019ee9966c7",
   "metadata": {},
   "outputs": [],
   "source": [
    "#general search based on similarity of words\n",
    "query = \"\"\"Is python open source language??\"\"\"  \n",
    "relevant_documents = vectordb.similarity_search(query,k=4)\n",
    "print(f'There are {len(relevant_documents)} documents retrieved which are relevant to the query. Display the first one:\\n')\n",
    "print(relevant_documents[0].page_content)\n",
    "#max_marginal_relevance_search helps searching by removing duplicates\n",
    "query = \"\"\"is python open source language??\"\"\"  \n",
    "relevant_documents = vectordb.max_marginal_relevance_search(query,k=4)\n",
    "print(f'There are {len(relevant_documents)} documents retrieved which are relevant to the query. Display the first one:\\n')\n",
    "print(relevant_documents[0].page_content)"
   ]
  },
  {
   "cell_type": "code",
   "execution_count": null,
   "id": "de896528-0e26-4ffc-b088-39af43e71395",
   "metadata": {},
   "outputs": [],
   "source": [
    "from langchain_core.prompts import ChatPromptTemplate\n",
    "from langchain_ollama.llms import OllamaLLM\n",
    "\n",
    "template = \"\"\"Question: {question}\n",
    "\n",
    "Answer: Let's think step by step.\"\"\"\n",
    "\n",
    "prompt = ChatPromptTemplate.from_template(template)\n",
    "\n",
    "model = OllamaLLM(model=\"mistral-small\")\n",
    "\n",
    "chain = prompt | model\n",
    "\n",
    "chain.invoke({\"question\": \"What is LangChain?\"})"
   ]
  },
  {
   "cell_type": "code",
   "execution_count": null,
   "id": "9ac83aba-c185-4415-822c-dfd45d99c541",
   "metadata": {},
   "outputs": [],
   "source": [
    "chain.invoke({\"question\": \"What is LangChain?\"})"
   ]
  },
  {
   "cell_type": "code",
   "execution_count": null,
   "id": "98708df9-8bba-4d5e-9426-0729a52ad08e",
   "metadata": {},
   "outputs": [],
   "source": []
  }
 ],
 "metadata": {
  "kernelspec": {
   "display_name": "Python 3 (ipykernel)",
   "language": "python",
   "name": "python3"
  },
  "language_info": {
   "codemirror_mode": {
    "name": "ipython",
    "version": 3
   },
   "file_extension": ".py",
   "mimetype": "text/x-python",
   "name": "python",
   "nbconvert_exporter": "python",
   "pygments_lexer": "ipython3",
   "version": "3.12.4"
  }
 },
 "nbformat": 4,
 "nbformat_minor": 5
}
